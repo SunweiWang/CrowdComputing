{
 "cells": [
  {
   "cell_type": "code",
   "execution_count": 25,
   "metadata": {},
   "outputs": [
    {
     "name": "stdout",
     "output_type": "stream",
     "text": [
      "5\n",
      "5\n",
      "The average finish time of a task: 81.4\n",
      "The average finish time of all of the tasks: 81.4\n",
      "The amount of data filtered out: 0\n",
      "The average number of don't know answers for a task Taiwanese: 0.0\n",
      "The average number of don't know answers for a task Dutch: 0.0\n",
      "The average number of don't know answers for a task White: 0.0\n",
      "The average number of don't know answers for a task Finnish: 0.0\n",
      "The average number of don't know answers for a task Chinese: 0.0\n",
      "The average number of don't know answers for all of the tasks: 0.0\n"
     ]
    }
   ],
   "source": [
    "import pandas as pd \n",
    "\n",
    "opt1 = 'Model A is much fairer'\n",
    "opt2 = 'Model A fairer'\n",
    "opt3 = 'Don\\'t know'\n",
    "opt4 = \"Model B is fairer\"\n",
    "opt5 = 'Model B is much fairer'\n",
    "\n",
    "#Loading data\n",
    "data = pd.read_csv(\"../data/output/Batch_281400_batch_results.csv\")\n",
    "\n",
    "#Calculating average task time \n",
    "worker_ids = data[\"WorkerId\"]\n",
    "t = data[\"WorkTimeInSeconds\"]\n",
    "\n",
    "avg_t = 0\n",
    "worker_t = []\n",
    "worker_t_index = []\n",
    "\n",
    "for i in range(len(t)):\n",
    "    avg_t += t[i]\n",
    "    if worker_ids[i] in worker_t_index:\n",
    "        index = worker_t_index.index(worker_ids[i])\n",
    "        worker_t[index] += t[i]\n",
    "    else:\n",
    "        worker_t_index.append(worker_ids[i])\n",
    "        worker_t.append(t[i])\n",
    "    \n",
    "avg_t = avg_t / len(t)\n",
    "\n",
    "print(\"The average finish time of a task: \" + str(avg_t))\n",
    "\n",
    "\n",
    "#Calculating average time to complete all tasks\n",
    "avg_t = 0\n",
    "for t_i in worker_t:\n",
    "    avg_t += t_i\n",
    "avg_t = avg_t / len(t)\n",
    "\n",
    "print(\"The average finish time of a HIT: \" + str(avg_t))\n",
    "\n",
    "test_types = []\n",
    "tests = []\n",
    "answers = data[\"Answer.category.label\"]\n",
    "inputs = data[\"Input.Identity\"]\n",
    "\n",
    "for i in range(len(inputs)):\n",
    "    netherlands = data[\"Answer.country.1\"][i]\n",
    "    finland = data[\"Answer.country.2\"][i]\n",
    "    taiwan = data[\"Answer.country.3\"][i]\n",
    "\n",
    "    country = \"\"\n",
    "    if netherlands:\n",
    "        country = \"Netherlands\"\n",
    "    if finland:\n",
    "        country = \"Finland\"\n",
    "    if taiwan:\n",
    "        country = \"Taiwan\"\n",
    "\n",
    "    asian = data[\"Answer.race.1\"][i]\n",
    "    black = data[\"Answer.race.2\"][i]\n",
    "    white = data[\"Answer.race.3\"][i]\n",
    "\n",
    "    race = \"\"\n",
    "    if asian:\n",
    "        race = \"Asian\"\n",
    "    if black:\n",
    "        race = \"Black\"\n",
    "    if white:\n",
    "        race = \"White\"\n",
    "        \n",
    "    if inputs[i] in test_types:\n",
    "        index = test_types.index(inputs[i])\n",
    "        tests[index].append((answers[i],country, race))\n",
    "    else:\n",
    "        test_types.append(inputs[i])\n",
    "        tests.append([(answers[i],country, race)])\n",
    "\n",
    "#Filtering out test according to the quality control\n",
    "#The test with the golden question\n",
    "golden_test = 3\n",
    "#The tests that are shuffled version of the same models ()\n",
    "same_model_1 = 0\n",
    "same_model_2 = 2\n",
    "\n",
    "num_tests = len(tests)\n",
    "num_data = len(tests[0])\n",
    "\n",
    "filtered_tests = []\n",
    "for i in range(num_tests):\n",
    "    filtered_tests.append([])\n",
    "    \n",
    "for i in range(num_data):\n",
    "    if tests[golden_test][i][0] == opt4 and tests[same_model_1][i][0] == tests[same_model_2][i][0]:\n",
    "        for j in range(num_tests):\n",
    "            filtered_tests[j].append(tests[j][i]) \n",
    "\n",
    "#Uncomment to add quality control\n",
    "tests = filtered_tests\n",
    "\n",
    "#Calculating the amount of data that should be filtered out\n",
    "print(\"The amount of data filtered out: \" + str(num_data-len(tests[0])))\n",
    "num_data = len(tests[0])\n",
    "\n",
    "#Calculating the number of don't know answers\n",
    "counts = [0] * num_tests\n",
    "for i in range(num_tests):\n",
    "    for j in range(num_data):\n",
    "        if tests[i][j][0] == opt3:\n",
    "            counts[i] += 1\n",
    "\n",
    "for i in range(num_tests):              \n",
    "    print(\"The average number of don't know answers for a task \" + test_types[i] + \": \" + str(counts[i]/num_data))\n",
    "\n",
    "avg_dont_know = 0\n",
    "for i in range(num_tests):\n",
    "    avg_dont_know += counts[i]\n",
    "               \n",
    "avg_dont_know = avg_dont_know / num_data\n",
    "\n",
    "print(\"The average number of don't know answers of a HIT: \" + str(avg_dont_know))\n",
    "\n"
   ]
  },
  {
   "cell_type": "code",
   "execution_count": 32,
   "metadata": {},
   "outputs": [],
   "source": [
    "import matplotlib.pyplot as plt\n",
    "import matplotlib.patches as mpatches\n",
    "\n",
    "#Function for plotting the fairness of models according to workers \n",
    "def plot_fairness(j, filt_country, filt_race):\n",
    "    prefer_A = 0\n",
    "    prefer_A_l = 0\n",
    "    dont_know = 0\n",
    "    prefer_B_l = 0\n",
    "    prefer_B = 0\n",
    "\n",
    "    num_passed = 0\n",
    "    for i in range(num_data):\n",
    "        pass_country = True\n",
    "        if filt_country:\n",
    "            pass_country = False\n",
    "            for filt in filt_country:\n",
    "                if tests[j][i][1] == filt:\n",
    "                    pass_country = True             \n",
    "        \n",
    "        pass_race = True\n",
    "        if filt_race:\n",
    "            pass_race = False        \n",
    "            for filt in filt_race:\n",
    "                if tests[j][i][2] == filt:\n",
    "                    pass_race = True      \n",
    "            \n",
    "        if pass_country and pass_race:\n",
    "            num_passed += 1\n",
    "            x = tests[j][i][0]\n",
    "            if x == opt1:\n",
    "                prefer_A += 1 \n",
    "            if x == opt2:\n",
    "                prefer_A_l += 1\n",
    "            if x == opt3:\n",
    "                dont_know += 1\n",
    "            if x == opt4:\n",
    "                prefer_B_l += 1\n",
    "            if x == opt5:\n",
    "                prefer_B += 1\n",
    "\n",
    "    prefer_A = prefer_A / num_passed\n",
    "    prefer_A_l = prefer_A_l / num_passed\n",
    "    dont_know = dont_know / num_passed\n",
    "    prefer_B_l = prefer_B_l / num_passed\n",
    "    prefer_B = prefer_B / num_passed\n",
    "    \n",
    "    #print(prefer_A)\n",
    "    #print(prefer_A_l)\n",
    "    #print(dont_know)\n",
    "    #print(prefer_B_l)\n",
    "    #print(prefer_B)\n",
    "\n",
    "    fig, ax = plt.subplots()\n",
    "    ax.broken_barh([(0, prefer_A), \n",
    "                    (prefer_A, prefer_A+prefer_A_l), \n",
    "                    (prefer_A+prefer_A_l, \n",
    "                     prefer_A+prefer_A_l+dont_know),\n",
    "                    (prefer_A+prefer_A_l+dont_know, \n",
    "                     prefer_A+prefer_A_l+dont_know+prefer_B_l),\n",
    "                    (prefer_A+prefer_A_l+dont_know+prefer_B_l,\n",
    "                     prefer_A+prefer_A_l+dont_know+prefer_B_l+prefer_B)], [10, 9], \n",
    "                     facecolors=('#6259D8', '#E53F08', '#FDB200', '#3FE03D', '#1EE8D4'))\n",
    "\n",
    "    ax.set_ylim(5, 15)\n",
    "    ax.set_xlim(0, 1)\n",
    "    ax.spines['left'].set_visible(False)\n",
    "    ax.spines['bottom'].set_visible(False)\n",
    "    ax.spines['top'].set_visible(False)\n",
    "    ax.spines['right'].set_visible(False)\n",
    "    ax.set_yticks([15, 25])\n",
    "    ax.set_xticks([0, 0.25, 0.5, 0.75, 1])\n",
    "\n",
    "    ax.set_axisbelow(True) \n",
    "\n",
    "    ax.set_yticklabels(['Test ' + str(j+1)])\n",
    "    ax.grid(axis='x')\n",
    "    \n",
    "    \n",
    "    fig.suptitle('Fairness Test ' + str(j+1), fontsize=16)\n",
    "\n",
    "    leg1 = mpatches.Patch(color='#6259D8', label='Model A is much fairer')\n",
    "    leg2 = mpatches.Patch(color='#E53F08', label='Model A fairer')\n",
    "    leg3 = mpatches.Patch(color='#FDB200', label='Don\\'t know')\n",
    "    leg4 = mpatches.Patch(color='#3FE03D', label='Model B is fairer')\n",
    "    leg5 = mpatches.Patch(color='#1EE8D4', label='Model B is much fairer')\n",
    "    ax.legend(handles=[leg1, leg2, leg3, leg4, leg5], ncol=2)\n",
    "\n",
    "    plt.show()\n",
    "    "
   ]
  },
  {
   "cell_type": "code",
   "execution_count": 63,
   "metadata": {},
   "outputs": [],
   "source": [
    "import sklearn.metrics as met\n",
    "\n",
    "def calculate_agreement(filt_country, filt_race, filt_country2, filt_race2):\n",
    "    test1 = []\n",
    "    for j in range(num_tests):\n",
    "        test = []\n",
    "        for i in range(num_data):\n",
    "            pass_country = True\n",
    "            if filt_country:\n",
    "                pass_country = False\n",
    "                for filt in filt_country:\n",
    "                    if tests[j][i][1] == filt:\n",
    "                        pass_country = True             \n",
    "\n",
    "            pass_race = True\n",
    "            if filt_race:\n",
    "                pass_race = False        \n",
    "                for filt in filt_race:\n",
    "                    if tests[j][i][2] == filt:\n",
    "                        pass_race = True \n",
    "\n",
    "            if pass_country and pass_race:\n",
    "                test.append(tests[j][i][0])\n",
    "        test1.append(test)\n",
    "        \n",
    "                \n",
    "            \n",
    "    test2 = []\n",
    "    for j in range(num_tests):\n",
    "        test = []\n",
    "        for i in range(num_data):\n",
    "            pass_country = True\n",
    "            if filt_country:\n",
    "                pass_country = False\n",
    "                for filt in filt_country2:\n",
    "                    if tests[j][i][1] == filt:\n",
    "                        pass_country = True             \n",
    "\n",
    "            pass_race = True\n",
    "            if filt_race:\n",
    "                pass_race = False        \n",
    "                for filt in filt_race2:\n",
    "                    if tests[j][i][2] == filt:\n",
    "                        pass_race = True \n",
    "\n",
    "            if pass_country and pass_race:\n",
    "                test.append(tests[j][i][0])\n",
    "        test2.append(test)\n",
    "    \n",
    "    agreement_score = 0\n",
    "    num_comparisons = 0\n",
    "    for i in range(len(test1[0])):\n",
    "        for j in range(len(test2[0])):\n",
    "            agreement_score += met.cohen_kappa_score(test1[:][i], test2[:][j], labels=[opt1,opt2,opt2,opt4,opt5])\n",
    "            num_comparisons += 1\n",
    "                   \n",
    "    agreement_score = agreement_score/num_comparisons    \n",
    "                   \n",
    "    print(\"The average inter annotator score between people with the following demographics\" \n",
    "          + str(filt_country) + str(filt_race) + \" and \" +  str(filt_country2) + str(filt_race2) \n",
    "          + \": \" + str(agreement_score))"
   ]
  },
  {
   "cell_type": "code",
   "execution_count": 64,
   "metadata": {},
   "outputs": [
    {
     "name": "stdout",
     "output_type": "stream",
     "text": [
      "The average inter annotator score between people with the following demographics[][] and [][]: nan\n"
     ]
    },
    {
     "data": {
      "image/png": "[encoded data removed]",
      "text/plain": [
       "<Figure size 432x288 with 1 Axes>"
      ]
     },
     "metadata": {
      "needs_background": "light"
     },
     "output_type": "display_data"
    },
    {
     "data": {
      "image/png": "[encoded data removed]",
      "text/plain": [
       "<Figure size 432x288 with 1 Axes>"
      ]
     },
     "metadata": {
      "needs_background": "light"
     },
     "output_type": "display_data"
    },
    {
     "data": {
      "image/png": "[encoded data removed]",
      "text/plain": [
       "<Figure size 432x288 with 1 Axes>"
      ]
     },
     "metadata": {
      "needs_background": "light"
     },
     "output_type": "display_data"
    },
    {
     "data": {
      "image/png": "[encoded data removed]",
      "text/plain": [
       "<Figure size 432x288 with 1 Axes>"
      ]
     },
     "metadata": {
      "needs_background": "light"
     },
     "output_type": "display_data"
    },
    {
     "data": {
      "image/png": "[encoded data removed]",
      "text/plain": [
       "<Figure size 432x288 with 1 Axes>"
      ]
     },
     "metadata": {
      "needs_background": "light"
     },
     "output_type": "display_data"
    }
   ],
   "source": [
    "calculate_agreement([], [], [], [])\n",
    "\n",
    "#Plot for all people\n",
    "for j in range(num_tests):\n",
    "    plot_fairness(j, [], [])"
   ]
  },
  {
   "cell_type": "code",
   "execution_count": 34,
   "metadata": {},
   "outputs": [
    {
     "ename": "ZeroDivisionError",
     "evalue": "division by zero",
     "output_type": "error",
     "traceback": [
      "\u001b[1;31m---------------------------------------------------------------------------\u001b[0m",
      "\u001b[1;31mZeroDivisionError\u001b[0m                         Traceback (most recent call last)",
      "\u001b[1;32m<ipython-input-34-2fa8fe91d561>\u001b[0m in \u001b[0;36m<module>\u001b[1;34m\u001b[0m\n\u001b[0;32m      6\u001b[0m \u001b[1;31m#Empty lists means every demograhic is allowed\u001b[0m\u001b[1;33m\u001b[0m\u001b[1;33m\u001b[0m\u001b[1;33m\u001b[0m\u001b[0m\n\u001b[0;32m      7\u001b[0m \u001b[1;32mfor\u001b[0m \u001b[0mj\u001b[0m \u001b[1;32min\u001b[0m \u001b[0mrange\u001b[0m\u001b[1;33m(\u001b[0m\u001b[0mnum_tests\u001b[0m\u001b[1;33m)\u001b[0m\u001b[1;33m:\u001b[0m\u001b[1;33m\u001b[0m\u001b[1;33m\u001b[0m\u001b[0m\n\u001b[1;32m----> 8\u001b[1;33m     \u001b[0mplot_fairness\u001b[0m\u001b[1;33m(\u001b[0m\u001b[0mj\u001b[0m\u001b[1;33m,\u001b[0m \u001b[1;33m[\u001b[0m\u001b[1;34m\"Finland\"\u001b[0m\u001b[1;33m]\u001b[0m\u001b[1;33m,\u001b[0m \u001b[1;33m[\u001b[0m\u001b[1;33m]\u001b[0m\u001b[1;33m)\u001b[0m\u001b[1;33m\u001b[0m\u001b[1;33m\u001b[0m\u001b[0m\n\u001b[0m",
      "\u001b[1;32m<ipython-input-32-a3083acf3f28>\u001b[0m in \u001b[0;36mplot_fairness\u001b[1;34m(j, filt_country, filt_race)\u001b[0m\n\u001b[0;32m     41\u001b[0m                 \u001b[0mprefer_B\u001b[0m \u001b[1;33m+=\u001b[0m \u001b[1;36m1\u001b[0m\u001b[1;33m\u001b[0m\u001b[1;33m\u001b[0m\u001b[0m\n\u001b[0;32m     42\u001b[0m \u001b[1;33m\u001b[0m\u001b[0m\n\u001b[1;32m---> 43\u001b[1;33m     \u001b[0mprefer_A\u001b[0m \u001b[1;33m=\u001b[0m \u001b[0mprefer_A\u001b[0m \u001b[1;33m/\u001b[0m \u001b[0mnum_passed\u001b[0m\u001b[1;33m\u001b[0m\u001b[1;33m\u001b[0m\u001b[0m\n\u001b[0m\u001b[0;32m     44\u001b[0m     \u001b[0mprefer_A_l\u001b[0m \u001b[1;33m=\u001b[0m \u001b[0mprefer_A_l\u001b[0m \u001b[1;33m/\u001b[0m \u001b[0mnum_passed\u001b[0m\u001b[1;33m\u001b[0m\u001b[1;33m\u001b[0m\u001b[0m\n\u001b[0;32m     45\u001b[0m     \u001b[0mdont_know\u001b[0m \u001b[1;33m=\u001b[0m \u001b[0mdont_know\u001b[0m \u001b[1;33m/\u001b[0m \u001b[0mnum_passed\u001b[0m\u001b[1;33m\u001b[0m\u001b[1;33m\u001b[0m\u001b[0m\n",
      "\u001b[1;31mZeroDivisionError\u001b[0m: division by zero"
     ]
    }
   ],
   "source": [
    "#Plot for Finnish Christian\n",
    "#To filter out demographics: \n",
    "#the first list is to only allow people from certain countries\n",
    "#the second list is to only allow people with certain religions\n",
    "#the third list is to only allow people with certain races\n",
    "#Empty lists means every demograhic is allowed\n",
    "for j in range(num_tests):\n",
    "    plot_fairness(j, [\"Finland\"], [])\n"
   ]
  },
  {
   "cell_type": "code",
   "execution_count": null,
   "metadata": {},
   "outputs": [],
   "source": []
  },
  {
   "cell_type": "code",
   "execution_count": null,
   "metadata": {},
   "outputs": [],
   "source": []
  }
 ],
 "metadata": {
  "kernelspec": {
   "display_name": "Python 3",
   "language": "python",
   "name": "python3"
  },
  "language_info": {
   "codemirror_mode": {
    "name": "ipython",
    "version": 3
   },
   "file_extension": ".py",
   "mimetype": "text/x-python",
   "name": "python",
   "nbconvert_exporter": "python",
   "pygments_lexer": "ipython3",
   "version": "3.8.2"
  }
 },
 "nbformat": 4,
 "nbformat_minor": 4
}
