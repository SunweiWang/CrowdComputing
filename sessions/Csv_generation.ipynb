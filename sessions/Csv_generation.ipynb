{
 "cells": [
  {
   "cell_type": "code",
   "execution_count": 1,
   "metadata": {},
   "outputs": [],
   "source": [
    "import pandas as pd\n",
    "import numpy as np\n",
    "np.random.seed(42)"
   ]
  },
  {
   "cell_type": "code",
   "execution_count": 2,
   "metadata": {},
   "outputs": [],
   "source": [
    "global  TEMPLATE_NEGATIVE\n",
    "global TEMPLATE_POSITIVE"
   ]
  },
  {
   "cell_type": "code",
   "execution_count": 3,
   "metadata": {},
   "outputs": [],
   "source": [
    "RACE=['White','Asian','Black','Latino']\n",
    "RElIGION=['Christian','Buddhist','Muslim','Hindu','Jewish']\n",
    "SEXUAL_ORIENTAION=['Heterosexual','Homosexual','Bisexual']\n",
    "\n",
    "TEMPLATE_NEGATIVE=['I am <IDENTITY>',\n",
    "'I am a <IDENTITY> person',\n",
    "'<IDENTITY> people are just like everyone else']\n",
    "\n",
    "TEMPLATE_POSITIVE=[\n",
    "'I hate all <IDENTITY>',\n",
    "'I am a <IDENTITY> person and I hate your guts and think you suck',\n",
    "'<IDENTITY> people are gross']\n",
    "# Might need to translate to different langugage"
   ]
  },
  {
   "cell_type": "code",
   "execution_count": 4,
   "metadata": {},
   "outputs": [],
   "source": [
    "def Session(idenList1,idenList2,diff=False):\n",
    "    \n",
    "    if diff:\n",
    "        index=np.random.permutation(len(idenList1))\n",
    "        iden1=idenList1[index[0]]\n",
    "        iden2=idenList2[index[1]]\n",
    "    else:\n",
    "        iden1=idenList1[np.random.randint(len(idenList1))]\n",
    "        iden2=idenList2[np.random.randint(len(idenList2))]\n",
    "    \n",
    "    indexNegative=np.random.permutation(len(TEMPLATE_NEGATIVE))\n",
    "    indexPositive=np.random.permutation(len(TEMPLATE_POSITIVE))\n",
    "    \n",
    "    texts=[]\n",
    "    texts+=[TEMPLATE_POSITIVE[indexPositive[0]].replace(\"<IDENTITY>\", iden1)]\n",
    "    texts+=[TEMPLATE_POSITIVE[indexPositive[1]].replace(\"<IDENTITY>\", iden2)]\n",
    "    texts+=[TEMPLATE_NEGATIVE[indexNegative[0]].replace(\"<IDENTITY>\", iden1)]\n",
    "    texts+=[TEMPLATE_NEGATIVE[indexNegative[1]].replace(\"<IDENTITY>\", iden2)]\n",
    "    \n",
    "    labels=[True,True,False,False]\n",
    "    modelA=[True,True,True,False]\n",
    "    modelB=[True,False,False,False]\n",
    "    eqModelA='True Positive Rate Equilibrium'\n",
    "    eqModelB='False Positive Rate Equilibrium'\n",
    "\n",
    "    # Shuffle model A and model B\n",
    "    if np.random.permutation(2)[0]:\n",
    "        eqModelA='False Positive Rate Equilibrium'\n",
    "        eqModelB='True Positive Rate Equilibrium'\n",
    "        modelA=[True,False,False,False]\n",
    "        modelB=[True,True,True,False]\n",
    "        \n",
    "        \n",
    "    sessionnDF=pd.DataFrame(texts,columns=['Comment'])\n",
    "    sessionnDF['Label']=labels\n",
    "    sessionnDF['ModelA_Prediction']=modelA\n",
    "    sessionnDF['ModelB_Prediction']=modelB\n",
    "    #sessionnDF=sessionnDF.sample(frac=1)\n",
    "\n",
    "    return sessionnDF,eqModelA,eqModelB"
   ]
  },
  {
   "cell_type": "code",
   "execution_count": 5,
   "metadata": {},
   "outputs": [],
   "source": [
    "def Generator(properties):\n",
    "    Path=[]\n",
    "    EqA=[]\n",
    "    EqB=[]\n",
    "    for i in range(len(properties)):\n",
    "        \n",
    "        # Generate csv file for the same identity\n",
    "        listB=properties.copy()\n",
    "        listB.remove(listB[i])\n",
    "        \n",
    "        sessionnDF,eqModelA,eqModelB = Session(properties[i:i+1],listB,diff=False)\n",
    "        path='csv/'+properties[i]+'_Same.csv'\n",
    "        sessionnDF.to_csv(path,index=False)       \n",
    "        Path+=[path]\n",
    "        EqA+=[eqModelA]\n",
    "        EqB+=[eqModelB]\n",
    "        \n",
    "        # Generate csv file for different identity\n",
    "        sessionnDF,eqModelA,eqModelB = Session(listB,listB,diff=True)\n",
    "        path='csv/'+properties[i]+'_Diff.csv'\n",
    "        sessionnDF.to_csv(path,index=False)                                                  \n",
    "        Path+=[path]\n",
    "        EqA+=[eqModelA]\n",
    "        EqB+=[eqModelB]     \n",
    "        \n",
    "    csvfileProperties=pd.DataFrame(Path,columns=['Path'])\n",
    "    csvfileProperties['ModelA']=EqA\n",
    "    csvfileProperties['ModelB']=EqB\n",
    "    return csvfileProperties"
   ]
  },
  {
   "cell_type": "code",
   "execution_count": 6,
   "metadata": {},
   "outputs": [],
   "source": [
    "prop_RACE=Generator(RACE)\n",
    "prop_RElIGION=Generator(RElIGION)\n",
    "prop_SEXUAL_ORIENTAION=Generator(SEXUAL_ORIENTAION)"
   ]
  },
  {
   "cell_type": "code",
   "execution_count": 7,
   "metadata": {},
   "outputs": [],
   "source": [
    "CsvfilePropertiespd=pd.concat([prop_RACE, prop_RElIGION], ignore_index=True)\n",
    "CsvfilePropertiespd=pd.concat([CsvfilePropertiespd, prop_SEXUAL_ORIENTAION], ignore_index=True)\n",
    "CsvfilePropertiespd.to_csv('Csvfile_Properties.csv',index=False)"
   ]
  }
 ],
 "metadata": {
  "kernelspec": {
   "display_name": "Python 3",
   "language": "python",
   "name": "python3"
  },
  "language_info": {
   "codemirror_mode": {
    "name": "ipython",
    "version": 3
   },
   "file_extension": ".py",
   "mimetype": "text/x-python",
   "name": "python",
   "nbconvert_exporter": "python",
   "pygments_lexer": "ipython3",
   "version": "3.6.5"
  }
 },
 "nbformat": 4,
 "nbformat_minor": 2
}
