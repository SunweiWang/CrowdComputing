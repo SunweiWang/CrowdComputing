{
 "cells": [
  {
   "cell_type": "code",
   "execution_count": 124,
   "metadata": {},
   "outputs": [],
   "source": [
    "import pandas as pd\n",
    "import numpy as np\n",
    "np.random.seed(5)"
   ]
  },
  {
   "cell_type": "code",
   "execution_count": 125,
   "metadata": {},
   "outputs": [],
   "source": [
    "RACE=['White','Asian','Black']#,'Latino']\n",
    "NATIONALITY=['Finnish','Taiwanese','Chinese','Dutch']\n",
    "IMAGE_TEMPLATE=['_Male.png','_Female.png']\n",
    "# Might need to translate to different langugage"
   ]
  },
  {
   "cell_type": "code",
   "execution_count": 126,
   "metadata": {},
   "outputs": [],
   "source": [
    "def Session(idenList1,idenList2,diff=False):\n",
    "    \n",
    "    if diff:\n",
    "        index=np.random.permutation(len(idenList1))\n",
    "        iden1=idenList1[index[0]]\n",
    "        iden2=idenList2[index[1]]\n",
    "    else:\n",
    "        iden1=idenList1[np.random.randint(len(idenList1))]\n",
    "        iden2=idenList2[np.random.randint(len(idenList2))]\n",
    "    \n",
    "    indexImage=np.random.randint(0,high=len(IMAGE_TEMPLATE),size=(4,))\n",
    "    imageFile=[iden1+IMAGE_TEMPLATE[indexImage[0]],\n",
    "              iden2+IMAGE_TEMPLATE[indexImage[1]],\n",
    "              iden1+IMAGE_TEMPLATE[indexImage[2]],\n",
    "              iden2+IMAGE_TEMPLATE[indexImage[3]]]\n",
    "    \n",
    "    labels=[True,True,False,False]\n",
    "    modelA=[True,True,True,False]\n",
    "    modelB=[True,False,False,False]\n",
    "    eqModelA='True Positive Rate Equilibrium'\n",
    "    eqModelB='False Positive Rate Equilibrium'\n",
    "\n",
    "    # Shuffle model A and model B\n",
    "    if np.random.permutation(2)[0]:\n",
    "        eqModelA='False Positive Rate Equilibrium'\n",
    "        eqModelB='True Positive Rate Equilibrium'\n",
    "        modelA=[True,False,False,False]\n",
    "        modelB=[True,True,True,False]\n",
    "        \n",
    "    \n",
    "    sessionnDF=pd.DataFrame(imageFile,columns=['imageFile'])\n",
    "    sessionnDF['profile']=[iden1,iden2,iden1,iden2]\n",
    "    sessionnDF['True OutComes']=labels\n",
    "    sessionnDF['ModelA_Prediction']=modelA\n",
    "    sessionnDF['ModelB_Prediction']=modelB\n",
    "    #sessionnDF=sessionnDF.sample(frac=1)\n",
    "\n",
    "    return sessionnDF,eqModelA,eqModelB"
   ]
  },
  {
   "cell_type": "code",
   "execution_count": 127,
   "metadata": {},
   "outputs": [],
   "source": [
    "def Generator(properties):\n",
    "    Path=[]\n",
    "    EqA=[]\n",
    "    EqB=[]\n",
    "    \n",
    "    for i in range(len(properties)):\n",
    "        \n",
    "        # Generate csv file for the same identity\n",
    "        listB=properties.copy()\n",
    "        listB.remove(listB[i])\n",
    "        \n",
    "        sessionnDF,eqModelA,eqModelB = Session(properties[i:i+1],listB,diff=False)\n",
    "        path='csv/'+properties[i]+'.csv'\n",
    "        sessionnDF.to_csv(path,index=False)       \n",
    "        Path+=[path]\n",
    "        EqA+=[eqModelA]\n",
    "        EqB+=[eqModelB]\n",
    "    \n",
    "    csvfileProperties=pd.DataFrame(Path,columns=['Path'])\n",
    "    csvfileProperties['ModelA']=EqA\n",
    "    csvfileProperties['ModelB']=EqB\n",
    "    return csvfileProperties"
   ]
  },
  {
   "cell_type": "code",
   "execution_count": 128,
   "metadata": {},
   "outputs": [],
   "source": [
    "prop_RACE=Generator(RACE)\n",
    "prop_NATIONALITY=Generator(NATIONALITY)"
   ]
  },
  {
   "cell_type": "code",
   "execution_count": 129,
   "metadata": {},
   "outputs": [],
   "source": [
    "# Create Session for Cheating\n",
    "sessionnDF=pd.DataFrame(['Black_Male.png','Asian_Male.png','Black_Female.png','Asian_Female.png'],columns=['imageFile'])\n",
    "sessionnDF['profile']=['Black','Asian','Black','Asian']\n",
    "sessionnDF['True OutComes']=[True,True,False,False]\n",
    "sessionnDF['ModelA_Prediction']=~sessionnDF['True OutComes']\n",
    "sessionnDF['ModelB_Prediction']=[True,True,False,False]\n",
    "path='csv/Cheating.csv'\n",
    "sessionnDF.to_csv(path,index=False) "
   ]
  },
  {
   "cell_type": "code",
   "execution_count": 130,
   "metadata": {},
   "outputs": [],
   "source": [
    "cheatingDF=pd.DataFrame(['csv/Cheating.csv'],columns=['Path'])\n",
    "cheatingDF['ModelA']='Completely Wrong'\n",
    "cheatingDF['ModelB']='Completely Correct'\n",
    "prop_RACE=prop_RACE.append(cheatingDF, ignore_index=True)"
   ]
  },
  {
   "cell_type": "code",
   "execution_count": 131,
   "metadata": {},
   "outputs": [],
   "source": [
    "CsvfilePropertiespd=pd.concat([prop_RACE, prop_NATIONALITY], ignore_index=True)\n",
    "CsvfilePropertiespd.to_csv('Csvfile_Properties.csv',index=False)"
   ]
  },
  {
   "cell_type": "code",
   "execution_count": 132,
   "metadata": {},
   "outputs": [
    {
     "data": {
      "text/html": [
       "<div>\n",
       "<style scoped>\n",
       "    .dataframe tbody tr th:only-of-type {\n",
       "        vertical-align: middle;\n",
       "    }\n",
       "\n",
       "    .dataframe tbody tr th {\n",
       "        vertical-align: top;\n",
       "    }\n",
       "\n",
       "    .dataframe thead th {\n",
       "        text-align: right;\n",
       "    }\n",
       "</style>\n",
       "<table border=\"1\" class=\"dataframe\">\n",
       "  <thead>\n",
       "    <tr style=\"text-align: right;\">\n",
       "      <th></th>\n",
       "      <th>Path</th>\n",
       "      <th>ModelA</th>\n",
       "      <th>ModelB</th>\n",
       "    </tr>\n",
       "  </thead>\n",
       "  <tbody>\n",
       "    <tr>\n",
       "      <th>0</th>\n",
       "      <td>csv/White.csv</td>\n",
       "      <td>False Positive Rate Equilibrium</td>\n",
       "      <td>True Positive Rate Equilibrium</td>\n",
       "    </tr>\n",
       "    <tr>\n",
       "      <th>1</th>\n",
       "      <td>csv/Asian.csv</td>\n",
       "      <td>False Positive Rate Equilibrium</td>\n",
       "      <td>True Positive Rate Equilibrium</td>\n",
       "    </tr>\n",
       "    <tr>\n",
       "      <th>2</th>\n",
       "      <td>csv/Black.csv</td>\n",
       "      <td>False Positive Rate Equilibrium</td>\n",
       "      <td>True Positive Rate Equilibrium</td>\n",
       "    </tr>\n",
       "    <tr>\n",
       "      <th>3</th>\n",
       "      <td>csv/Cheating.csv</td>\n",
       "      <td>Completely Wrong</td>\n",
       "      <td>Completely Correct</td>\n",
       "    </tr>\n",
       "    <tr>\n",
       "      <th>4</th>\n",
       "      <td>csv/Finnish.csv</td>\n",
       "      <td>False Positive Rate Equilibrium</td>\n",
       "      <td>True Positive Rate Equilibrium</td>\n",
       "    </tr>\n",
       "    <tr>\n",
       "      <th>5</th>\n",
       "      <td>csv/Taiwanese.csv</td>\n",
       "      <td>False Positive Rate Equilibrium</td>\n",
       "      <td>True Positive Rate Equilibrium</td>\n",
       "    </tr>\n",
       "    <tr>\n",
       "      <th>6</th>\n",
       "      <td>csv/Chinese.csv</td>\n",
       "      <td>True Positive Rate Equilibrium</td>\n",
       "      <td>False Positive Rate Equilibrium</td>\n",
       "    </tr>\n",
       "    <tr>\n",
       "      <th>7</th>\n",
       "      <td>csv/Dutch.csv</td>\n",
       "      <td>False Positive Rate Equilibrium</td>\n",
       "      <td>True Positive Rate Equilibrium</td>\n",
       "    </tr>\n",
       "  </tbody>\n",
       "</table>\n",
       "</div>"
      ],
      "text/plain": [
       "                Path                           ModelA  \\\n",
       "0      csv/White.csv  False Positive Rate Equilibrium   \n",
       "1      csv/Asian.csv  False Positive Rate Equilibrium   \n",
       "2      csv/Black.csv  False Positive Rate Equilibrium   \n",
       "3   csv/Cheating.csv                 Completely Wrong   \n",
       "4    csv/Finnish.csv  False Positive Rate Equilibrium   \n",
       "5  csv/Taiwanese.csv  False Positive Rate Equilibrium   \n",
       "6    csv/Chinese.csv   True Positive Rate Equilibrium   \n",
       "7      csv/Dutch.csv  False Positive Rate Equilibrium   \n",
       "\n",
       "                            ModelB  \n",
       "0   True Positive Rate Equilibrium  \n",
       "1   True Positive Rate Equilibrium  \n",
       "2   True Positive Rate Equilibrium  \n",
       "3               Completely Correct  \n",
       "4   True Positive Rate Equilibrium  \n",
       "5   True Positive Rate Equilibrium  \n",
       "6  False Positive Rate Equilibrium  \n",
       "7   True Positive Rate Equilibrium  "
      ]
     },
     "execution_count": 132,
     "metadata": {},
     "output_type": "execute_result"
    }
   ],
   "source": [
    "CsvfilePropertiespd"
   ]
  }
 ],
 "metadata": {
  "kernelspec": {
   "display_name": "Python 3",
   "language": "python",
   "name": "python3"
  },
  "language_info": {
   "codemirror_mode": {
    "name": "ipython",
    "version": 3
   },
   "file_extension": ".py",
   "mimetype": "text/x-python",
   "name": "python",
   "nbconvert_exporter": "python",
   "pygments_lexer": "ipython3",
   "version": "3.7.7"
  }
 },
 "nbformat": 4,
 "nbformat_minor": 2
}
