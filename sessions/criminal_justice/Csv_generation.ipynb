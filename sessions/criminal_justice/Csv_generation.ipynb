{
 "cells": [
  {
   "cell_type": "code",
   "execution_count": 1,
   "metadata": {},
   "outputs": [],
   "source": [
    "import pandas as pd\n",
    "import numpy as np\n",
    "np.random.seed(42)"
   ]
  },
  {
   "cell_type": "code",
   "execution_count": 21,
   "metadata": {},
   "outputs": [],
   "source": [
    "RACE=['White','Asian','Black']#,'Latino']\n",
    "IMAGE_TEMPLATE=['_Male.png','_Female.png']\n",
    "# Might need to translate to different langugage"
   ]
  },
  {
   "cell_type": "code",
   "execution_count": 22,
   "metadata": {},
   "outputs": [],
   "source": [
    "def Session(idenList1,idenList2,diff=False):\n",
    "    \n",
    "    if diff:\n",
    "        index=np.random.permutation(len(idenList1))\n",
    "        iden1=idenList1[index[0]]\n",
    "        iden2=idenList2[index[1]]\n",
    "    else:\n",
    "        iden1=idenList1[np.random.randint(len(idenList1))]\n",
    "        iden2=idenList2[np.random.randint(len(idenList2))]\n",
    "    \n",
    "    indexImage=np.random.randint(0,high=len(IMAGE_TEMPLATE),size=(4,))\n",
    "    imageFile=[iden1+IMAGE_TEMPLATE[indexImage[0]],\n",
    "              iden2+IMAGE_TEMPLATE[indexImage[1]],\n",
    "              iden1+IMAGE_TEMPLATE[indexImage[2]],\n",
    "              iden2+IMAGE_TEMPLATE[indexImage[3]]]\n",
    "    \n",
    "    labels=[True,True,False,False]\n",
    "    modelA=[True,True,True,False]\n",
    "    modelB=[True,False,False,False]\n",
    "    eqModelA='True Positive Rate Equilibrium'\n",
    "    eqModelB='False Positive Rate Equilibrium'\n",
    "\n",
    "    # Shuffle model A and model B\n",
    "    if np.random.permutation(2)[0]:\n",
    "        eqModelA='False Positive Rate Equilibrium'\n",
    "        eqModelB='True Positive Rate Equilibrium'\n",
    "        modelA=[True,False,False,False]\n",
    "        modelB=[True,True,True,False]\n",
    "        \n",
    "    \n",
    "    sessionnDF=pd.DataFrame(imageFile,columns=['imageFile'])\n",
    "    sessionnDF['profile']=[iden1,iden2,iden1,iden2]\n",
    "    sessionnDF['Label']=labels\n",
    "    sessionnDF['ModelA_Prediction']=modelA\n",
    "    sessionnDF['ModelB_Prediction']=modelB\n",
    "    #sessionnDF=sessionnDF.sample(frac=1)\n",
    "\n",
    "    return sessionnDF,eqModelA,eqModelB"
   ]
  },
  {
   "cell_type": "code",
   "execution_count": 23,
   "metadata": {},
   "outputs": [],
   "source": [
    "def Generator(properties):\n",
    "    Path=[]\n",
    "    EqA=[]\n",
    "    EqB=[]\n",
    "    \n",
    "    for i in range(len(properties)):\n",
    "        \n",
    "        # Generate csv file for the same identity\n",
    "        listB=properties.copy()\n",
    "        listB.remove(listB[i])\n",
    "        \n",
    "        sessionnDF,eqModelA,eqModelB = Session(properties[i:i+1],listB,diff=False)\n",
    "        path='csv/'+properties[i]+'_Same.csv'\n",
    "        sessionnDF.to_csv(path,index=False)       \n",
    "        Path+=[path]\n",
    "        EqA+=[eqModelA]\n",
    "        EqB+=[eqModelB]\n",
    "        \n",
    "        # Generate csv file for different identity\n",
    "        sessionnDF,eqModelA,eqModelB = Session(listB,listB,diff=True)\n",
    "        path='csv/'+properties[i]+'_Diff.csv'\n",
    "        sessionnDF.to_csv(path,index=False)                                                  \n",
    "        Path+=[path]\n",
    "        EqA+=[eqModelA]\n",
    "        EqB+=[eqModelB]     \n",
    "        \n",
    "    csvfileProperties=pd.DataFrame(Path,columns=['Path'])\n",
    "    csvfileProperties['ModelA']=EqA\n",
    "    csvfileProperties['ModelB']=EqB\n",
    "    return csvfileProperties"
   ]
  },
  {
   "cell_type": "code",
   "execution_count": 25,
   "metadata": {},
   "outputs": [],
   "source": [
    "prop_RACE=Generator(RACE)"
   ]
  },
  {
   "cell_type": "code",
   "execution_count": 26,
   "metadata": {},
   "outputs": [],
   "source": [
    "prop_RACE.to_csv('Csvfile_Properties.csv',index=False)"
   ]
  },
  {
   "cell_type": "code",
   "execution_count": null,
   "metadata": {},
   "outputs": [],
   "source": []
  }
 ],
 "metadata": {
  "kernelspec": {
   "display_name": "Python 3",
   "language": "python",
   "name": "python3"
  },
  "language_info": {
   "codemirror_mode": {
    "name": "ipython",
    "version": 3
   },
   "file_extension": ".py",
   "mimetype": "text/x-python",
   "name": "python",
   "nbconvert_exporter": "python",
   "pygments_lexer": "ipython3",
   "version": "3.7.7"
  }
 },
 "nbformat": 4,
 "nbformat_minor": 2
}
